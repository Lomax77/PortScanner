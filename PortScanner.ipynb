{
 "cells": [
  {
   "cell_type": "code",
   "execution_count": null,
   "id": "d08a0eb1",
   "metadata": {},
   "outputs": [],
   "source": [
    "import socket\n",
    "\n",
    "def scan_ports(target_ip, start_port, end_port):\n",
    "    open_ports = []\n",
    "\n",
    "    for port in range(start_port, end_port+1):\n",
    "        s = socket.socket(socket.AF_INET, socket.SOCK_STREAM)\n",
    "        socket.setdefaulttimeout(1)\n",
    "\n",
    "        # returns an error indicator\n",
    "        result = s.connect_ex((target_ip, port))\n",
    "        if result == 0:\n",
    "            open_ports.append(port)\n",
    "            print(f\"Port {port} is open.\")\n",
    "        else:\n",
    "            print(f\"Port {port} is closed.\")\n",
    "        s.close()\n",
    "\n",
    "    return open_ports\n",
    "\n",
    "def main():\n",
    "    target = input(\"Enter the target IP address: \")\n",
    "    start = int(input(\"Enter the starting port number: \"))\n",
    "    end = int(input(\"Enter the ending port number: \"))\n",
    "\n",
    "    while True:\n",
    "        print(f\"Scanning ports {start} to {end} on {target}...\")\n",
    "        open_ports = scan_ports(target, start, end)\n",
    "\n",
    "        if open_ports:\n",
    "            print(f\"\\nSummary: Open ports on {target}: {', '.join(map(str, open_ports))}\")\n",
    "        else:\n",
    "            print(f\"\\nSummary: No open ports found on {target} within the range {start}-{end}.\")\n",
    "\n",
    "        print(\"\\nOptions:\")\n",
    "        print(\"1. Change target IP\")\n",
    "        print(\"2. Change port range\")\n",
    "        print(\"3. Exit\")\n",
    "        choice = input(\"Select an option (1/2/3): \")\n",
    "\n",
    "        if choice == \"1\":\n",
    "            target = input(\"Enter the new target IP address: \")\n",
    "        elif choice == \"2\":\n",
    "            start = int(input(\"Enter the new starting port number: \"))\n",
    "            end = int(input(\"Enter the new ending port number: \"))\n",
    "        elif choice == \"3\":\n",
    "            break\n",
    "\n",
    "if __name__ == \"__main__\":\n",
    "    main()\n"
   ]
  }
 ],
 "metadata": {
  "kernelspec": {
   "display_name": "Python 3 (ipykernel)",
   "language": "python",
   "name": "python3"
  },
  "language_info": {
   "codemirror_mode": {
    "name": "ipython",
    "version": 3
   },
   "file_extension": ".py",
   "mimetype": "text/x-python",
   "name": "python",
   "nbconvert_exporter": "python",
   "pygments_lexer": "ipython3",
   "version": "3.10.0"
  }
 },
 "nbformat": 4,
 "nbformat_minor": 5
}
